{
  "nbformat": 4,
  "nbformat_minor": 0,
  "metadata": {
    "colab": {
      "provenance": [],
      "authorship_tag": "ABX9TyOC1UIKnRTGJYSK33niD14+",
      "include_colab_link": true
    },
    "kernelspec": {
      "name": "python3",
      "display_name": "Python 3"
    },
    "language_info": {
      "name": "python"
    }
  },
  "cells": [
    {
      "cell_type": "markdown",
      "metadata": {
        "id": "view-in-github",
        "colab_type": "text"
      },
      "source": [
        "<a href=\"https://colab.research.google.com/github/sora3765/regression-analysis-sales-forecast/blob/main/1_1_%E5%8D%98%E5%9B%9E%E5%B8%B0%E5%88%86%E6%9E%90.ipynb\" target=\"_parent\"><img src=\"https://colab.research.google.com/assets/colab-badge.svg\" alt=\"Open In Colab\"/></a>"
      ]
    },
    {
      "cell_type": "code",
      "execution_count": 2,
      "metadata": {
        "id": "mM8dd1qLkIvO"
      },
      "outputs": [],
      "source": [
        "import numpy as np\n",
        "import pandas as pd\n",
        "import matplotlib.pyplot as plt\n",
        "from scipy import stats\n",
        "import statsmodels.formula.api as smf\n",
        "\n",
        "%precision 3\n",
        "%matplotlib inline\n"
      ]
    },
    {
      "cell_type": "code",
      "source": [
        "f = 123.456789\n",
        "\n",
        "f\n",
        "# 123.456789\n",
        "\n",
        "%precision 3\n",
        "# '%.3f'\n",
        "\n",
        "f\n",
        "# 123.457\n"
      ],
      "metadata": {
        "colab": {
          "base_uri": "https://localhost:8080/"
        },
        "id": "rAsuNQd9keJ8",
        "outputId": "ad22b56e-f9f4-473f-ed77-60040af04c21"
      },
      "execution_count": 3,
      "outputs": [
        {
          "output_type": "execute_result",
          "data": {
            "text/plain": [
              "123.457"
            ]
          },
          "metadata": {},
          "execution_count": 3
        }
      ]
    },
    {
      "cell_type": "code",
      "source": [
        "!git clone https://github.com/umacchi/python-regression-tutorial-data datasets"
      ],
      "metadata": {
        "colab": {
          "base_uri": "https://localhost:8080/"
        },
        "id": "O73h_rlDlocw",
        "outputId": "e94e3767-03cb-46ea-a9f7-f024ea925339"
      },
      "execution_count": 4,
      "outputs": [
        {
          "output_type": "stream",
          "name": "stdout",
          "text": [
            "Cloning into 'datasets'...\n",
            "remote: Enumerating objects: 31, done.\u001b[K\n",
            "remote: Counting objects: 100% (31/31), done.\u001b[K\n",
            "remote: Compressing objects: 100% (27/27), done.\u001b[K\n",
            "remote: Total 31 (delta 3), reused 30 (delta 2), pack-reused 0\u001b[K\n",
            "Unpacking objects: 100% (31/31), done.\n"
          ]
        }
      ]
    },
    {
      "cell_type": "code",
      "source": [
        "df = pd.read_csv(\"/content/datasets/test.csv\")\n",
        "n = len(df)\n",
        "print(n)\n",
        "df.head()\n"
      ],
      "metadata": {
        "colab": {
          "base_uri": "https://localhost:8080/",
          "height": 223
        },
        "id": "E8l3IsPwlxfp",
        "outputId": "0bc4a10c-4cf2-4485-9d2e-25b9cc08069f"
      },
      "execution_count": 5,
      "outputs": [
        {
          "output_type": "stream",
          "name": "stdout",
          "text": [
            "20\n"
          ]
        },
        {
          "output_type": "execute_result",
          "data": {
            "text/plain": [
              "   monday_sales  week_sales  customer_traffic weather\n",
              "0           4.2          67               7.2   Sunny\n",
              "1           7.2          71               7.9  Cloudy\n",
              "2           2.0          30               5.3   Sunny\n",
              "3           3.0          35               6.8   Rainy\n",
              "4           1.5          35               7.5   Rainy"
            ],
            "text/html": [
              "\n",
              "  <div id=\"df-4fc83309-2d7a-466a-9024-61aaefc8f71e\">\n",
              "    <div class=\"colab-df-container\">\n",
              "      <div>\n",
              "<style scoped>\n",
              "    .dataframe tbody tr th:only-of-type {\n",
              "        vertical-align: middle;\n",
              "    }\n",
              "\n",
              "    .dataframe tbody tr th {\n",
              "        vertical-align: top;\n",
              "    }\n",
              "\n",
              "    .dataframe thead th {\n",
              "        text-align: right;\n",
              "    }\n",
              "</style>\n",
              "<table border=\"1\" class=\"dataframe\">\n",
              "  <thead>\n",
              "    <tr style=\"text-align: right;\">\n",
              "      <th></th>\n",
              "      <th>monday_sales</th>\n",
              "      <th>week_sales</th>\n",
              "      <th>customer_traffic</th>\n",
              "      <th>weather</th>\n",
              "    </tr>\n",
              "  </thead>\n",
              "  <tbody>\n",
              "    <tr>\n",
              "      <th>0</th>\n",
              "      <td>4.2</td>\n",
              "      <td>67</td>\n",
              "      <td>7.2</td>\n",
              "      <td>Sunny</td>\n",
              "    </tr>\n",
              "    <tr>\n",
              "      <th>1</th>\n",
              "      <td>7.2</td>\n",
              "      <td>71</td>\n",
              "      <td>7.9</td>\n",
              "      <td>Cloudy</td>\n",
              "    </tr>\n",
              "    <tr>\n",
              "      <th>2</th>\n",
              "      <td>2.0</td>\n",
              "      <td>30</td>\n",
              "      <td>5.3</td>\n",
              "      <td>Sunny</td>\n",
              "    </tr>\n",
              "    <tr>\n",
              "      <th>3</th>\n",
              "      <td>3.0</td>\n",
              "      <td>35</td>\n",
              "      <td>6.8</td>\n",
              "      <td>Rainy</td>\n",
              "    </tr>\n",
              "    <tr>\n",
              "      <th>4</th>\n",
              "      <td>1.5</td>\n",
              "      <td>35</td>\n",
              "      <td>7.5</td>\n",
              "      <td>Rainy</td>\n",
              "    </tr>\n",
              "  </tbody>\n",
              "</table>\n",
              "</div>\n",
              "      <button class=\"colab-df-convert\" onclick=\"convertToInteractive('df-4fc83309-2d7a-466a-9024-61aaefc8f71e')\"\n",
              "              title=\"Convert this dataframe to an interactive table.\"\n",
              "              style=\"display:none;\">\n",
              "        \n",
              "  <svg xmlns=\"http://www.w3.org/2000/svg\" height=\"24px\"viewBox=\"0 0 24 24\"\n",
              "       width=\"24px\">\n",
              "    <path d=\"M0 0h24v24H0V0z\" fill=\"none\"/>\n",
              "    <path d=\"M18.56 5.44l.94 2.06.94-2.06 2.06-.94-2.06-.94-.94-2.06-.94 2.06-2.06.94zm-11 1L8.5 8.5l.94-2.06 2.06-.94-2.06-.94L8.5 2.5l-.94 2.06-2.06.94zm10 10l.94 2.06.94-2.06 2.06-.94-2.06-.94-.94-2.06-.94 2.06-2.06.94z\"/><path d=\"M17.41 7.96l-1.37-1.37c-.4-.4-.92-.59-1.43-.59-.52 0-1.04.2-1.43.59L10.3 9.45l-7.72 7.72c-.78.78-.78 2.05 0 2.83L4 21.41c.39.39.9.59 1.41.59.51 0 1.02-.2 1.41-.59l7.78-7.78 2.81-2.81c.8-.78.8-2.07 0-2.86zM5.41 20L4 18.59l7.72-7.72 1.47 1.35L5.41 20z\"/>\n",
              "  </svg>\n",
              "      </button>\n",
              "      \n",
              "  <style>\n",
              "    .colab-df-container {\n",
              "      display:flex;\n",
              "      flex-wrap:wrap;\n",
              "      gap: 12px;\n",
              "    }\n",
              "\n",
              "    .colab-df-convert {\n",
              "      background-color: #E8F0FE;\n",
              "      border: none;\n",
              "      border-radius: 50%;\n",
              "      cursor: pointer;\n",
              "      display: none;\n",
              "      fill: #1967D2;\n",
              "      height: 32px;\n",
              "      padding: 0 0 0 0;\n",
              "      width: 32px;\n",
              "    }\n",
              "\n",
              "    .colab-df-convert:hover {\n",
              "      background-color: #E2EBFA;\n",
              "      box-shadow: 0px 1px 2px rgba(60, 64, 67, 0.3), 0px 1px 3px 1px rgba(60, 64, 67, 0.15);\n",
              "      fill: #174EA6;\n",
              "    }\n",
              "\n",
              "    [theme=dark] .colab-df-convert {\n",
              "      background-color: #3B4455;\n",
              "      fill: #D2E3FC;\n",
              "    }\n",
              "\n",
              "    [theme=dark] .colab-df-convert:hover {\n",
              "      background-color: #434B5C;\n",
              "      box-shadow: 0px 1px 3px 1px rgba(0, 0, 0, 0.15);\n",
              "      filter: drop-shadow(0px 1px 2px rgba(0, 0, 0, 0.3));\n",
              "      fill: #FFFFFF;\n",
              "    }\n",
              "  </style>\n",
              "\n",
              "      <script>\n",
              "        const buttonEl =\n",
              "          document.querySelector('#df-4fc83309-2d7a-466a-9024-61aaefc8f71e button.colab-df-convert');\n",
              "        buttonEl.style.display =\n",
              "          google.colab.kernel.accessAllowed ? 'block' : 'none';\n",
              "\n",
              "        async function convertToInteractive(key) {\n",
              "          const element = document.querySelector('#df-4fc83309-2d7a-466a-9024-61aaefc8f71e');\n",
              "          const dataTable =\n",
              "            await google.colab.kernel.invokeFunction('convertToInteractive',\n",
              "                                                     [key], {});\n",
              "          if (!dataTable) return;\n",
              "\n",
              "          const docLinkHtml = 'Like what you see? Visit the ' +\n",
              "            '<a target=\"_blank\" href=https://colab.research.google.com/notebooks/data_table.ipynb>data table notebook</a>'\n",
              "            + ' to learn more about interactive tables.';\n",
              "          element.innerHTML = '';\n",
              "          dataTable['output_type'] = 'display_data';\n",
              "          await google.colab.output.renderOutput(dataTable, element);\n",
              "          const docLink = document.createElement('div');\n",
              "          docLink.innerHTML = docLinkHtml;\n",
              "          element.appendChild(docLink);\n",
              "        }\n",
              "      </script>\n",
              "    </div>\n",
              "  </div>\n",
              "  "
            ]
          },
          "metadata": {},
          "execution_count": 5
        }
      ]
    },
    {
      "cell_type": "code",
      "source": [
        "x = np.array(df['monday_sales'])\n",
        "y = np.array(df['week_sales'])\n",
        "p = 1"
      ],
      "metadata": {
        "id": "BueNWG6Pl9tm"
      },
      "execution_count": 6,
      "outputs": []
    },
    {
      "cell_type": "code",
      "source": [
        "# 単回帰式を作成\n",
        "poly_fit = np.polyfit(x, y, 1)\n",
        "poly_1d = np.poly1d(poly_fit)\n",
        "x_min = x.min()\n",
        "x_max = x.max()\n",
        "xs = np.linspace(x_min, x_max)\n",
        "ys = poly_1d(xs)\n",
        "\n",
        "# 散布図と回帰直線を描画\n",
        "fig = plt.figure(figsize=(10, 6))\n",
        "ax = fig.add_subplot(1, 1, 1, xlabel=\"monday_sales\", ylabel=\"week_sales\")\n",
        "ax.plot(xs, ys, color=\"gray\")\n",
        "\n",
        "ax.scatter(x, y)\n"
      ],
      "metadata": {
        "colab": {
          "base_uri": "https://localhost:8080/",
          "height": 406
        },
        "id": "CZ1KU1PwPr46",
        "outputId": "d4b27d16-91e2-4417-9527-152003c66577"
      },
      "execution_count": 8,
      "outputs": [
        {
          "output_type": "execute_result",
          "data": {
            "text/plain": [
              "<matplotlib.collections.PathCollection at 0x7f57e75c4460>"
            ]
          },
          "metadata": {},
          "execution_count": 8
        },
        {
          "output_type": "display_data",
          "data": {
            "text/plain": [
              "<Figure size 720x432 with 1 Axes>"
            ],
            "image/png": "[encoded data removed]"
          },
          "metadata": {
            "needs_background": "light"
          }
        }
      ]
    },
    {
      "cell_type": "code",
      "source": [
        "formula = 'week_sales ~ monday_sales'\n",
        "result = smf.ols(formula, df).fit()\n",
        "result.summary()"
      ],
      "metadata": {
        "colab": {
          "base_uri": "https://localhost:8080/",
          "height": 451
        },
        "id": "ImQkWFyVQcPc",
        "outputId": "853577eb-162f-4c5b-a776-03975fc603bc"
      },
      "execution_count": 9,
      "outputs": [
        {
          "output_type": "execute_result",
          "data": {
            "text/plain": [
              "<class 'statsmodels.iolib.summary.Summary'>\n",
              "\"\"\"\n",
              "                            OLS Regression Results                            \n",
              "==============================================================================\n",
              "Dep. Variable:             week_sales   R-squared:                       0.649\n",
              "Model:                            OLS   Adj. R-squared:                  0.629\n",
              "Method:                 Least Squares   F-statistic:                     33.24\n",
              "Date:                Fri, 02 Dec 2022   Prob (F-statistic):           1.83e-05\n",
              "Time:                        00:34:49   Log-Likelihood:                -76.423\n",
              "No. Observations:                  20   AIC:                             156.8\n",
              "Df Residuals:                      18   BIC:                             158.8\n",
              "Df Model:                           1                                         \n",
              "Covariance Type:            nonrobust                                         \n",
              "================================================================================\n",
              "                   coef    std err          t      P>|t|      [0.025      0.975]\n",
              "--------------------------------------------------------------------------------\n",
              "Intercept       23.7942      4.999      4.759      0.000      13.291      34.298\n",
              "monday_sales     6.5009      1.128      5.766      0.000       4.132       8.870\n",
              "==============================================================================\n",
              "Omnibus:                        2.137   Durbin-Watson:                   1.471\n",
              "Prob(Omnibus):                  0.344   Jarque-Bera (JB):                1.783\n",
              "Skew:                           0.662   Prob(JB):                        0.410\n",
              "Kurtosis:                       2.377   Cond. No.                         8.83\n",
              "==============================================================================\n",
              "\n",
              "Notes:\n",
              "[1] Standard Errors assume that the covariance matrix of the errors is correctly specified.\n",
              "\"\"\""
            ],
            "text/html": [
              "<table class=\"simpletable\">\n",
              "<caption>OLS Regression Results</caption>\n",
              "<tr>\n",
              "  <th>Dep. Variable:</th>       <td>week_sales</td>    <th>  R-squared:         </th> <td>   0.649</td>\n",
              "</tr>\n",
              "<tr>\n",
              "  <th>Model:</th>                   <td>OLS</td>       <th>  Adj. R-squared:    </th> <td>   0.629</td>\n",
              "</tr>\n",
              "<tr>\n",
              "  <th>Method:</th>             <td>Least Squares</td>  <th>  F-statistic:       </th> <td>   33.24</td>\n",
              "</tr>\n",
              "<tr>\n",
              "  <th>Date:</th>             <td>Fri, 02 Dec 2022</td> <th>  Prob (F-statistic):</th> <td>1.83e-05</td>\n",
              "</tr>\n",
              "<tr>\n",
              "  <th>Time:</th>                 <td>00:34:49</td>     <th>  Log-Likelihood:    </th> <td> -76.423</td>\n",
              "</tr>\n",
              "<tr>\n",
              "  <th>No. Observations:</th>      <td>    20</td>      <th>  AIC:               </th> <td>   156.8</td>\n",
              "</tr>\n",
              "<tr>\n",
              "  <th>Df Residuals:</th>          <td>    18</td>      <th>  BIC:               </th> <td>   158.8</td>\n",
              "</tr>\n",
              "<tr>\n",
              "  <th>Df Model:</th>              <td>     1</td>      <th>                     </th>     <td> </td>   \n",
              "</tr>\n",
              "<tr>\n",
              "  <th>Covariance Type:</th>      <td>nonrobust</td>    <th>                     </th>     <td> </td>   \n",
              "</tr>\n",
              "</table>\n",
              "<table class=\"simpletable\">\n",
              "<tr>\n",
              "        <td></td>          <th>coef</th>     <th>std err</th>      <th>t</th>      <th>P>|t|</th>  <th>[0.025</th>    <th>0.975]</th>  \n",
              "</tr>\n",
              "<tr>\n",
              "  <th>Intercept</th>    <td>   23.7942</td> <td>    4.999</td> <td>    4.759</td> <td> 0.000</td> <td>   13.291</td> <td>   34.298</td>\n",
              "</tr>\n",
              "<tr>\n",
              "  <th>monday_sales</th> <td>    6.5009</td> <td>    1.128</td> <td>    5.766</td> <td> 0.000</td> <td>    4.132</td> <td>    8.870</td>\n",
              "</tr>\n",
              "</table>\n",
              "<table class=\"simpletable\">\n",
              "<tr>\n",
              "  <th>Omnibus:</th>       <td> 2.137</td> <th>  Durbin-Watson:     </th> <td>   1.471</td>\n",
              "</tr>\n",
              "<tr>\n",
              "  <th>Prob(Omnibus):</th> <td> 0.344</td> <th>  Jarque-Bera (JB):  </th> <td>   1.783</td>\n",
              "</tr>\n",
              "<tr>\n",
              "  <th>Skew:</th>          <td> 0.662</td> <th>  Prob(JB):          </th> <td>   0.410</td>\n",
              "</tr>\n",
              "<tr>\n",
              "  <th>Kurtosis:</th>      <td> 2.377</td> <th>  Cond. No.          </th> <td>    8.83</td>\n",
              "</tr>\n",
              "</table><br/><br/>Notes:<br/>[1] Standard Errors assume that the covariance matrix of the errors is correctly specified."
            ]
          },
          "metadata": {},
          "execution_count": 9
        }
      ]
    },
    {
      "cell_type": "code",
      "source": [
        "formula = 'week_sales ~ monday_sales'\n"
      ],
      "metadata": {
        "id": "V_-AN89PQd2q"
      },
      "execution_count": 10,
      "outputs": []
    },
    {
      "cell_type": "code",
      "source": [
        "# 最小二乗法でβ0とβ1を求める\n",
        "X = np.array([np.ones_like(x), x]).T\n",
        "X\n"
      ],
      "metadata": {
        "colab": {
          "base_uri": "https://localhost:8080/"
        },
        "id": "2A_stIIcQfpD",
        "outputId": "7e8bb250-b8b9-4c2b-b6c6-ecd995f6c0c1"
      },
      "execution_count": 11,
      "outputs": [
        {
          "output_type": "execute_result",
          "data": {
            "text/plain": [
              "array([[1. , 4.2],\n",
              "       [1. , 7.2],\n",
              "       [1. , 2. ],\n",
              "       [1. , 3. ],\n",
              "       [1. , 1.5],\n",
              "       [1. , 0.9],\n",
              "       [1. , 1.9],\n",
              "       [1. , 3.5],\n",
              "       [1. , 4. ],\n",
              "       [1. , 5.4],\n",
              "       [1. , 4.2],\n",
              "       [1. , 6.9],\n",
              "       [1. , 2. ],\n",
              "       [1. , 8.8],\n",
              "       [1. , 0.3],\n",
              "       [1. , 6.7],\n",
              "       [1. , 4.2],\n",
              "       [1. , 5.6],\n",
              "       [1. , 1.4],\n",
              "       [1. , 2. ]])"
            ]
          },
          "metadata": {},
          "execution_count": 11
        }
      ]
    },
    {
      "cell_type": "code",
      "source": [
        "# 最小二乗法を実行して、推定値の推定\n",
        "beta_hat, alfa_hat = np.linalg.lstsq(X, y, rcond=None)[0]\n",
        "beta_hat, alfa_hat\n",
        "# [出力結果]\n",
        "# (23.794, 6.501)\n"
      ],
      "metadata": {
        "colab": {
          "base_uri": "https://localhost:8080/"
        },
        "id": "hpfD3ERYRIB1",
        "outputId": "0836bfd2-0698-4e89-ca45-f5f3db2f10d6"
      },
      "execution_count": 12,
      "outputs": [
        {
          "output_type": "execute_result",
          "data": {
            "text/plain": [
              "(23.79415556107645, 6.500883603414412)"
            ]
          },
          "metadata": {},
          "execution_count": 12
        }
      ]
    },
    {
      "cell_type": "code",
      "source": [
        "# yの推定値を求める\n",
        "y_hat = beta_hat + alfa_hat * x\n",
        "# 残差を求める\n",
        "eps_hat = y - y_hat\n",
        "eps_hat\n"
      ],
      "metadata": {
        "colab": {
          "base_uri": "https://localhost:8080/"
        },
        "id": "vCRkjTn3RLwN",
        "outputId": "c8af0cca-06d8-43a7-8dee-9b4d8ecb6ae3"
      },
      "execution_count": 13,
      "outputs": [
        {
          "output_type": "execute_result",
          "data": {
            "text/plain": [
              "array([ 15.902,   0.399,  -6.796,  -8.297,   1.455,  10.355, -13.146,\n",
              "        -9.547, -10.798,  -3.899, -11.098,   1.35 ,  -7.796,   6.998,\n",
              "        21.256,   9.65 ,   0.902,  -5.199, -14.895,  23.204])"
            ]
          },
          "metadata": {},
          "execution_count": 13
        }
      ]
    },
    {
      "cell_type": "code",
      "source": [
        "# 残差を使って、母分散を推定\n",
        "s_var = np.var(eps_hat, ddof=p+1)\n",
        "s_var\n",
        "# [出力結果]\n",
        "# 135.609\n"
      ],
      "metadata": {
        "colab": {
          "base_uri": "https://localhost:8080/"
        },
        "id": "HcqXOWzaRPaF",
        "outputId": "6ecfcc65-08a5-430e-9222-8c057b29ea02"
      },
      "execution_count": 14,
      "outputs": [
        {
          "output_type": "execute_result",
          "data": {
            "text/plain": [
              "135.60873842890987"
            ]
          },
          "metadata": {},
          "execution_count": 14
        }
      ]
    },
    {
      "cell_type": "code",
      "source": [
        "#β0とβ1の区間推定\n",
        "C0, C1 = np.diag(np.linalg.pinv(np.dot(X.T, X)))\n",
        "# 標準誤差を出力\n",
        "print(np.sqrt(s_var * C0))\n",
        "print(np.sqrt(s_var * C1))\n"
      ],
      "metadata": {
        "colab": {
          "base_uri": "https://localhost:8080/"
        },
        "id": "PL7mXVnfRSe1",
        "outputId": "9d5d8772-5484-4491-c484-507250ce853f"
      },
      "execution_count": 15,
      "outputs": [
        {
          "output_type": "stream",
          "name": "stdout",
          "text": [
            "4.999402295059586\n",
            "1.1275397235202085\n"
          ]
        }
      ]
    },
    {
      "cell_type": "code",
      "source": [
        "# まずはt分布を作成\n",
        "rv = stats.t(n-2)\n",
        "\n",
        "#  βの95%信頼区間を求める\n",
        "lcl = beta_hat - rv.isf(0.025) * np.sqrt(s_var * C0)\n",
        "hcl = beta_hat - rv.isf(0.975) * np.sqrt(s_var * C0)\n",
        "print(lcl)\n",
        "print(hcl)\n"
      ],
      "metadata": {
        "colab": {
          "base_uri": "https://localhost:8080/"
        },
        "id": "gf2M4Js5RdvO",
        "outputId": "6c750050-e790-4751-9705-ae6777d663a2"
      },
      "execution_count": 16,
      "outputs": [
        {
          "output_type": "stream",
          "name": "stdout",
          "text": [
            "13.290801091354526\n",
            "34.29751003079838\n"
          ]
        }
      ]
    },
    {
      "cell_type": "code",
      "source": [
        "# αの95%信頼区間を求める\n",
        "rv = stats.t(n-2)\n",
        "\n",
        "lcl = alfa_hat - rv.isf(0.025) * np.sqrt(s_var * C1)\n",
        "hcl = alfa_hat - rv.isf(0.975) * np.sqrt(s_var * C1)\n",
        "print(lcl)\n",
        "print(hcl)\n"
      ],
      "metadata": {
        "colab": {
          "base_uri": "https://localhost:8080/"
        },
        "id": "OtizSrG4Rirg",
        "outputId": "d4a5e40b-f78a-4caa-a4fb-8253a46b0cbe"
      },
      "execution_count": 17,
      "outputs": [
        {
          "output_type": "stream",
          "name": "stdout",
          "text": [
            "4.132010547023608\n",
            "8.869756659805216\n"
          ]
        }
      ]
    },
    {
      "cell_type": "code",
      "source": [
        "t = alfa_hat / np.sqrt(s_var * C1)\n",
        "t\n",
        "# [出力結果]\n",
        "5.766\n"
      ],
      "metadata": {
        "colab": {
          "base_uri": "https://localhost:8080/"
        },
        "id": "AccYRKwXRlJ7",
        "outputId": "cec92230-d9e0-4077-af62-9bd73f19614c"
      },
      "execution_count": 18,
      "outputs": [
        {
          "output_type": "execute_result",
          "data": {
            "text/plain": [
              "5.766"
            ]
          },
          "metadata": {},
          "execution_count": 18
        }
      ]
    },
    {
      "cell_type": "code",
      "source": [
        "p = (1 - rv.cdf(t)) * 2\n",
        "p\n",
        "# [出力結果]\n",
        "0.000\n"
      ],
      "metadata": {
        "colab": {
          "base_uri": "https://localhost:8080/"
        },
        "id": "Z5L0izF5SHJR",
        "outputId": "471402f3-c335-43d0-cfa8-a120d03f3844"
      },
      "execution_count": 20,
      "outputs": [
        {
          "output_type": "execute_result",
          "data": {
            "text/plain": [
              "0.000"
            ]
          },
          "metadata": {},
          "execution_count": 20
        }
      ]
    },
    {
      "cell_type": "code",
      "source": [
        "p = (1 - rv.cdf(t)) * 2\n"
      ],
      "metadata": {
        "id": "iG35dogxSKui"
      },
      "execution_count": 21,
      "outputs": []
    },
    {
      "cell_type": "code",
      "source": [],
      "metadata": {
        "id": "T5ftYewJSMlW"
      },
      "execution_count": null,
      "outputs": []
    }
  ]
}