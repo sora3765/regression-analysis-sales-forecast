{
  "nbformat": 4,
  "nbformat_minor": 0,
  "metadata": {
    "colab": {
      "provenance": [],
      "authorship_tag": "ABX9TyNZ1G3cPr1LkrXMZmr6oxa1",
      "include_colab_link": true
    },
    "kernelspec": {
      "name": "python3",
      "display_name": "Python 3"
    },
    "language_info": {
      "name": "python"
    }
  },
  "cells": [
    {
      "cell_type": "markdown",
      "metadata": {
        "id": "view-in-github",
        "colab_type": "text"
      },
      "source": [
        "<a href=\"https://colab.research.google.com/github/sora3765/regression-analysis-sales-forecast/blob/main/1_2_%E9%87%8D%E5%9B%9E%E5%B8%B0%E5%88%86%E6%9E%90.ipynb\" target=\"_parent\"><img src=\"https://colab.research.google.com/assets/colab-badge.svg\" alt=\"Open In Colab\"/></a>"
      ]
    },
    {
      "cell_type": "code",
      "execution_count": 1,
      "metadata": {
        "id": "P-Wc_kgmTjbp"
      },
      "outputs": [],
      "source": [
        "import numpy as np\n",
        "import pandas as pd\n",
        "import matplotlib.pyplot as plt\n",
        "from scipy import stats\n",
        "import statsmodels.formula.api as smf\n",
        "\n",
        "%precision 3\n",
        "%matplotlib inline\n"
      ]
    },
    {
      "cell_type": "code",
      "source": [
        "!git clone https://github.com/umacchi/python-regression-tutorial-data datasets\n"
      ],
      "metadata": {
        "colab": {
          "base_uri": "https://localhost:8080/"
        },
        "id": "8zzNaMB7TqBx",
        "outputId": "b4310e4b-6ce3-471f-f9a2-002d59022ec6"
      },
      "execution_count": 2,
      "outputs": [
        {
          "output_type": "stream",
          "name": "stdout",
          "text": [
            "Cloning into 'datasets'...\n",
            "remote: Enumerating objects: 31, done.\u001b[K\n",
            "remote: Counting objects: 100% (31/31), done.\u001b[K\n",
            "remote: Compressing objects: 100% (27/27), done.\u001b[K\n",
            "remote: Total 31 (delta 3), reused 30 (delta 2), pack-reused 0\u001b[K\n",
            "Unpacking objects: 100% (31/31), done.\n"
          ]
        }
      ]
    },
    {
      "cell_type": "code",
      "source": [
        "df = pd.read_csv(\"/content/datasets/test.csv\")\n",
        "n = len(df)\n",
        "print(df.shape)\n",
        "df.head()\n"
      ],
      "metadata": {
        "colab": {
          "base_uri": "https://localhost:8080/",
          "height": 223
        },
        "id": "S2UrBgYhTs2v",
        "outputId": "11eef355-7589-4707-cbd3-80917d3e7776"
      },
      "execution_count": 3,
      "outputs": [
        {
          "output_type": "stream",
          "name": "stdout",
          "text": [
            "(20, 4)\n"
          ]
        },
        {
          "output_type": "execute_result",
          "data": {
            "text/plain": [
              "   monday_sales  week_sales  customer_traffic weather\n",
              "0           4.2          67               7.2   Sunny\n",
              "1           7.2          71               7.9  Cloudy\n",
              "2           2.0          30               5.3   Sunny\n",
              "3           3.0          35               6.8   Rainy\n",
              "4           1.5          35               7.5   Rainy"
            ],
            "text/html": [
              "\n",
              "  <div id=\"df-b1525843-92ea-46a3-b8c0-6433f1ce2918\">\n",
              "    <div class=\"colab-df-container\">\n",
              "      <div>\n",
              "<style scoped>\n",
              "    .dataframe tbody tr th:only-of-type {\n",
              "        vertical-align: middle;\n",
              "    }\n",
              "\n",
              "    .dataframe tbody tr th {\n",
              "        vertical-align: top;\n",
              "    }\n",
              "\n",
              "    .dataframe thead th {\n",
              "        text-align: right;\n",
              "    }\n",
              "</style>\n",
              "<table border=\"1\" class=\"dataframe\">\n",
              "  <thead>\n",
              "    <tr style=\"text-align: right;\">\n",
              "      <th></th>\n",
              "      <th>monday_sales</th>\n",
              "      <th>week_sales</th>\n",
              "      <th>customer_traffic</th>\n",
              "      <th>weather</th>\n",
              "    </tr>\n",
              "  </thead>\n",
              "  <tbody>\n",
              "    <tr>\n",
              "      <th>0</th>\n",
              "      <td>4.2</td>\n",
              "      <td>67</td>\n",
              "      <td>7.2</td>\n",
              "      <td>Sunny</td>\n",
              "    </tr>\n",
              "    <tr>\n",
              "      <th>1</th>\n",
              "      <td>7.2</td>\n",
              "      <td>71</td>\n",
              "      <td>7.9</td>\n",
              "      <td>Cloudy</td>\n",
              "    </tr>\n",
              "    <tr>\n",
              "      <th>2</th>\n",
              "      <td>2.0</td>\n",
              "      <td>30</td>\n",
              "      <td>5.3</td>\n",
              "      <td>Sunny</td>\n",
              "    </tr>\n",
              "    <tr>\n",
              "      <th>3</th>\n",
              "      <td>3.0</td>\n",
              "      <td>35</td>\n",
              "      <td>6.8</td>\n",
              "      <td>Rainy</td>\n",
              "    </tr>\n",
              "    <tr>\n",
              "      <th>4</th>\n",
              "      <td>1.5</td>\n",
              "      <td>35</td>\n",
              "      <td>7.5</td>\n",
              "      <td>Rainy</td>\n",
              "    </tr>\n",
              "  </tbody>\n",
              "</table>\n",
              "</div>\n",
              "      <button class=\"colab-df-convert\" onclick=\"convertToInteractive('df-b1525843-92ea-46a3-b8c0-6433f1ce2918')\"\n",
              "              title=\"Convert this dataframe to an interactive table.\"\n",
              "              style=\"display:none;\">\n",
              "        \n",
              "  <svg xmlns=\"http://www.w3.org/2000/svg\" height=\"24px\"viewBox=\"0 0 24 24\"\n",
              "       width=\"24px\">\n",
              "    <path d=\"M0 0h24v24H0V0z\" fill=\"none\"/>\n",
              "    <path d=\"M18.56 5.44l.94 2.06.94-2.06 2.06-.94-2.06-.94-.94-2.06-.94 2.06-2.06.94zm-11 1L8.5 8.5l.94-2.06 2.06-.94-2.06-.94L8.5 2.5l-.94 2.06-2.06.94zm10 10l.94 2.06.94-2.06 2.06-.94-2.06-.94-.94-2.06-.94 2.06-2.06.94z\"/><path d=\"M17.41 7.96l-1.37-1.37c-.4-.4-.92-.59-1.43-.59-.52 0-1.04.2-1.43.59L10.3 9.45l-7.72 7.72c-.78.78-.78 2.05 0 2.83L4 21.41c.39.39.9.59 1.41.59.51 0 1.02-.2 1.41-.59l7.78-7.78 2.81-2.81c.8-.78.8-2.07 0-2.86zM5.41 20L4 18.59l7.72-7.72 1.47 1.35L5.41 20z\"/>\n",
              "  </svg>\n",
              "      </button>\n",
              "      \n",
              "  <style>\n",
              "    .colab-df-container {\n",
              "      display:flex;\n",
              "      flex-wrap:wrap;\n",
              "      gap: 12px;\n",
              "    }\n",
              "\n",
              "    .colab-df-convert {\n",
              "      background-color: #E8F0FE;\n",
              "      border: none;\n",
              "      border-radius: 50%;\n",
              "      cursor: pointer;\n",
              "      display: none;\n",
              "      fill: #1967D2;\n",
              "      height: 32px;\n",
              "      padding: 0 0 0 0;\n",
              "      width: 32px;\n",
              "    }\n",
              "\n",
              "    .colab-df-convert:hover {\n",
              "      background-color: #E2EBFA;\n",
              "      box-shadow: 0px 1px 2px rgba(60, 64, 67, 0.3), 0px 1px 3px 1px rgba(60, 64, 67, 0.15);\n",
              "      fill: #174EA6;\n",
              "    }\n",
              "\n",
              "    [theme=dark] .colab-df-convert {\n",
              "      background-color: #3B4455;\n",
              "      fill: #D2E3FC;\n",
              "    }\n",
              "\n",
              "    [theme=dark] .colab-df-convert:hover {\n",
              "      background-color: #434B5C;\n",
              "      box-shadow: 0px 1px 3px 1px rgba(0, 0, 0, 0.15);\n",
              "      filter: drop-shadow(0px 1px 2px rgba(0, 0, 0, 0.3));\n",
              "      fill: #FFFFFF;\n",
              "    }\n",
              "  </style>\n",
              "\n",
              "      <script>\n",
              "        const buttonEl =\n",
              "          document.querySelector('#df-b1525843-92ea-46a3-b8c0-6433f1ce2918 button.colab-df-convert');\n",
              "        buttonEl.style.display =\n",
              "          google.colab.kernel.accessAllowed ? 'block' : 'none';\n",
              "\n",
              "        async function convertToInteractive(key) {\n",
              "          const element = document.querySelector('#df-b1525843-92ea-46a3-b8c0-6433f1ce2918');\n",
              "          const dataTable =\n",
              "            await google.colab.kernel.invokeFunction('convertToInteractive',\n",
              "                                                     [key], {});\n",
              "          if (!dataTable) return;\n",
              "\n",
              "          const docLinkHtml = 'Like what you see? Visit the ' +\n",
              "            '<a target=\"_blank\" href=https://colab.research.google.com/notebooks/data_table.ipynb>data table notebook</a>'\n",
              "            + ' to learn more about interactive tables.';\n",
              "          element.innerHTML = '';\n",
              "          dataTable['output_type'] = 'display_data';\n",
              "          await google.colab.output.renderOutput(dataTable, element);\n",
              "          const docLink = document.createElement('div');\n",
              "          docLink.innerHTML = docLinkHtml;\n",
              "          element.appendChild(docLink);\n",
              "        }\n",
              "      </script>\n",
              "    </div>\n",
              "  </div>\n",
              "  "
            ]
          },
          "metadata": {},
          "execution_count": 3
        }
      ]
    },
    {
      "cell_type": "code",
      "source": [
        "# monday_sales: 月曜日の売上\n",
        "# customer traffic: 屋台前の営業時間中の10分あたりの平均的な人通り量\n",
        "# weather: 当日の晴れか曇りかなどの天気情報\n",
        "\n",
        "# まずは２変数での重回帰分析\n",
        "formula = \"week_sales ~ monday_sales + customer_traffic\"\n",
        "result = smf.ols(formula, df).fit()\n",
        "result.summary()\n"
      ],
      "metadata": {
        "colab": {
          "base_uri": "https://localhost:8080/",
          "height": 473
        },
        "id": "Hze3vAHkTvvh",
        "outputId": "4d624517-b4a3-4af0-f0a1-b61536519cba"
      },
      "execution_count": 4,
      "outputs": [
        {
          "output_type": "execute_result",
          "data": {
            "text/plain": [
              "<class 'statsmodels.iolib.summary.Summary'>\n",
              "\"\"\"\n",
              "                            OLS Regression Results                            \n",
              "==============================================================================\n",
              "Dep. Variable:             week_sales   R-squared:                       0.737\n",
              "Model:                            OLS   Adj. R-squared:                  0.706\n",
              "Method:                 Least Squares   F-statistic:                     23.78\n",
              "Date:                Fri, 02 Dec 2022   Prob (F-statistic):           1.19e-05\n",
              "Time:                        00:54:46   Log-Likelihood:                -73.542\n",
              "No. Observations:                  20   AIC:                             153.1\n",
              "Df Residuals:                      17   BIC:                             156.1\n",
              "Df Model:                           2                                         \n",
              "Covariance Type:            nonrobust                                         \n",
              "====================================================================================\n",
              "                       coef    std err          t      P>|t|      [0.025      0.975]\n",
              "------------------------------------------------------------------------------------\n",
              "Intercept           -2.2903     11.819     -0.194      0.849     -27.227      22.646\n",
              "monday_sales         6.4340      1.005      6.402      0.000       4.314       8.554\n",
              "customer_traffic     4.2412      1.780      2.383      0.029       0.486       7.997\n",
              "==============================================================================\n",
              "Omnibus:                        2.158   Durbin-Watson:                   1.477\n",
              "Prob(Omnibus):                  0.340   Jarque-Bera (JB):                1.780\n",
              "Skew:                           0.675   Prob(JB):                        0.411\n",
              "Kurtosis:                       2.442   Cond. No.                         38.7\n",
              "==============================================================================\n",
              "\n",
              "Notes:\n",
              "[1] Standard Errors assume that the covariance matrix of the errors is correctly specified.\n",
              "\"\"\""
            ],
            "text/html": [
              "<table class=\"simpletable\">\n",
              "<caption>OLS Regression Results</caption>\n",
              "<tr>\n",
              "  <th>Dep. Variable:</th>       <td>week_sales</td>    <th>  R-squared:         </th> <td>   0.737</td>\n",
              "</tr>\n",
              "<tr>\n",
              "  <th>Model:</th>                   <td>OLS</td>       <th>  Adj. R-squared:    </th> <td>   0.706</td>\n",
              "</tr>\n",
              "<tr>\n",
              "  <th>Method:</th>             <td>Least Squares</td>  <th>  F-statistic:       </th> <td>   23.78</td>\n",
              "</tr>\n",
              "<tr>\n",
              "  <th>Date:</th>             <td>Fri, 02 Dec 2022</td> <th>  Prob (F-statistic):</th> <td>1.19e-05</td>\n",
              "</tr>\n",
              "<tr>\n",
              "  <th>Time:</th>                 <td>00:54:46</td>     <th>  Log-Likelihood:    </th> <td> -73.542</td>\n",
              "</tr>\n",
              "<tr>\n",
              "  <th>No. Observations:</th>      <td>    20</td>      <th>  AIC:               </th> <td>   153.1</td>\n",
              "</tr>\n",
              "<tr>\n",
              "  <th>Df Residuals:</th>          <td>    17</td>      <th>  BIC:               </th> <td>   156.1</td>\n",
              "</tr>\n",
              "<tr>\n",
              "  <th>Df Model:</th>              <td>     2</td>      <th>                     </th>     <td> </td>   \n",
              "</tr>\n",
              "<tr>\n",
              "  <th>Covariance Type:</th>      <td>nonrobust</td>    <th>                     </th>     <td> </td>   \n",
              "</tr>\n",
              "</table>\n",
              "<table class=\"simpletable\">\n",
              "<tr>\n",
              "          <td></td>            <th>coef</th>     <th>std err</th>      <th>t</th>      <th>P>|t|</th>  <th>[0.025</th>    <th>0.975]</th>  \n",
              "</tr>\n",
              "<tr>\n",
              "  <th>Intercept</th>        <td>   -2.2903</td> <td>   11.819</td> <td>   -0.194</td> <td> 0.849</td> <td>  -27.227</td> <td>   22.646</td>\n",
              "</tr>\n",
              "<tr>\n",
              "  <th>monday_sales</th>     <td>    6.4340</td> <td>    1.005</td> <td>    6.402</td> <td> 0.000</td> <td>    4.314</td> <td>    8.554</td>\n",
              "</tr>\n",
              "<tr>\n",
              "  <th>customer_traffic</th> <td>    4.2412</td> <td>    1.780</td> <td>    2.383</td> <td> 0.029</td> <td>    0.486</td> <td>    7.997</td>\n",
              "</tr>\n",
              "</table>\n",
              "<table class=\"simpletable\">\n",
              "<tr>\n",
              "  <th>Omnibus:</th>       <td> 2.158</td> <th>  Durbin-Watson:     </th> <td>   1.477</td>\n",
              "</tr>\n",
              "<tr>\n",
              "  <th>Prob(Omnibus):</th> <td> 0.340</td> <th>  Jarque-Bera (JB):  </th> <td>   1.780</td>\n",
              "</tr>\n",
              "<tr>\n",
              "  <th>Skew:</th>          <td> 0.675</td> <th>  Prob(JB):          </th> <td>   0.411</td>\n",
              "</tr>\n",
              "<tr>\n",
              "  <th>Kurtosis:</th>      <td> 2.442</td> <th>  Cond. No.          </th> <td>    38.7</td>\n",
              "</tr>\n",
              "</table><br/><br/>Notes:<br/>[1] Standard Errors assume that the covariance matrix of the errors is correctly specified."
            ]
          },
          "metadata": {},
          "execution_count": 4
        }
      ]
    },
    {
      "cell_type": "code",
      "source": [
        "x1 = df['monday_sales']\n",
        "x2 = df['customer_traffic']\n",
        "y = df['week_sales']\n",
        "p = 2\n"
      ],
      "metadata": {
        "id": "7qBs4e2lVCI5"
      },
      "execution_count": 5,
      "outputs": []
    },
    {
      "cell_type": "code",
      "source": [
        "# β0, β1, β2の各推定値を求めていく\n",
        "X = np.array([np.ones_like(x1), x1, x2]).T\n",
        "\n",
        "beta0_hat, beta1_hat, beta2_hat = np.linalg.lstsq(X, y)[0]\n",
        "beta0_hat, beta1_hat, beta2_hat\n",
        "# 出力結果\n",
        "# (-2.290, 6.434, 4.241)\n"
      ],
      "metadata": {
        "colab": {
          "base_uri": "https://localhost:8080/"
        },
        "id": "aeoOQ0bEVPaG",
        "outputId": "06c03170-ea04-41f4-a9a3-665d01d968a4"
      },
      "execution_count": 6,
      "outputs": [
        {
          "output_type": "stream",
          "name": "stderr",
          "text": [
            "<ipython-input-6-9d63d41e3841>:4: FutureWarning: `rcond` parameter will change to the default of machine precision times ``max(M, N)`` where M and N are the input matrix dimensions.\n",
            "To use the future default and silence this warning we advise to pass `rcond=None`, to keep using the old, explicitly pass `rcond=-1`.\n",
            "  beta0_hat, beta1_hat, beta2_hat = np.linalg.lstsq(X, y)[0]\n"
          ]
        },
        {
          "output_type": "execute_result",
          "data": {
            "text/plain": [
              "(-2.290285203435117, 6.433965003648682, 4.241179978200461)"
            ]
          },
          "metadata": {},
          "execution_count": 6
        }
      ]
    },
    {
      "cell_type": "code",
      "source": [
        "# 予測値を求める\n",
        "y_hat = beta0_hat + beta1_hat * x1 + beta2_hat * x2\n",
        "print(y_hat)"
      ],
      "metadata": {
        "colab": {
          "base_uri": "https://localhost:8080/"
        },
        "id": "FgHicGbkVRLa",
        "outputId": "1c57bb90-3e5c-4163-ad48-4a2cdf9533d7"
      },
      "execution_count": 7,
      "outputs": [
        {
          "output_type": "stream",
          "name": "stdout",
          "text": [
            "0     55.268864\n",
            "1     77.539585\n",
            "2     33.055899\n",
            "3     45.851634\n",
            "4     39.169512\n",
            "5     35.733251\n",
            "6     28.171322\n",
            "7     38.041548\n",
            "8     43.379121\n",
            "9     64.261976\n",
            "10    43.393560\n",
            "11    66.278799\n",
            "12    43.658849\n",
            "13    80.199805\n",
            "14    28.479928\n",
            "15    63.295534\n",
            "16    53.148274\n",
            "17    64.700533\n",
            "18    24.106104\n",
            "19    40.265905\n",
            "dtype: float64\n"
          ]
        }
      ]
    },
    {
      "cell_type": "code",
      "source": [
        "# 残差を求める\n",
        "eps_hat = y - y_hat\n",
        "print(eps_hat)\n"
      ],
      "metadata": {
        "colab": {
          "base_uri": "https://localhost:8080/"
        },
        "id": "Vbd05avFVT5I",
        "outputId": "d27f5611-0d90-41ad-e950-3df4276b804c"
      },
      "execution_count": 8,
      "outputs": [
        {
          "output_type": "stream",
          "name": "stdout",
          "text": [
            "0     11.731136\n",
            "1     -6.539585\n",
            "2     -3.055899\n",
            "3    -10.851634\n",
            "4     -4.169512\n",
            "5      4.266749\n",
            "6     -5.171322\n",
            "7     -1.041548\n",
            "8     -4.379121\n",
            "9     -9.261976\n",
            "10    -3.393560\n",
            "11     3.721201\n",
            "12   -14.658849\n",
            "13     7.800195\n",
            "14    18.520072\n",
            "15    13.704466\n",
            "16    -1.148274\n",
            "17    -9.700533\n",
            "18    -6.106104\n",
            "19    19.734095\n",
            "dtype: float64\n"
          ]
        }
      ]
    },
    {
      "cell_type": "code",
      "source": [
        "# 標準誤差を求める\n",
        "s_var = np.sum(eps_hat ** 2) / (n - p - 1)\n",
        "\n",
        "C0, C1, C2 = np.diag(np.linalg.pinv(np.dot(X.T, X)))\n",
        "C0, C1, C2\n",
        "# 出力結果\n",
        "# (1.298, 0.009, 0.029)\n"
      ],
      "metadata": {
        "colab": {
          "base_uri": "https://localhost:8080/"
        },
        "id": "YnIG401rVWBS",
        "outputId": "08743e74-06c3-490e-8858-3fc36abc43b5"
      },
      "execution_count": 9,
      "outputs": [
        {
          "output_type": "execute_result",
          "data": {
            "text/plain": [
              "(1.2977724263376968, 0.00938243089119918, 0.029436486917620183)"
            ]
          },
          "metadata": {},
          "execution_count": 9
        }
      ]
    },
    {
      "cell_type": "code",
      "source": [
        "# β2の95信頼区間を求める\n",
        "rv = stats.t(n-p-1)\n",
        "\n",
        "lcl = beta2_hat - rv.isf(0.025) * np.sqrt(s_var * C2)\n",
        "hcl = beta2_hat - rv.isf(0.975) * np.sqrt(s_var * C2)\n",
        "lcl, hcl\n",
        "# 出力結果\n",
        "# (0.486, 7.997)\n"
      ],
      "metadata": {
        "colab": {
          "base_uri": "https://localhost:8080/"
        },
        "id": "hTJEJU5iVYXq",
        "outputId": "6a085a53-57b3-4aa7-e953-528abcff0c95"
      },
      "execution_count": 10,
      "outputs": [
        {
          "output_type": "execute_result",
          "data": {
            "text/plain": [
              "(0.48561064662117825, 7.996749309779743)"
            ]
          },
          "metadata": {},
          "execution_count": 10
        }
      ]
    },
    {
      "cell_type": "code",
      "source": [
        "# ================================================="
      ],
      "metadata": {
        "id": "Q8mhsYPWVbbm"
      },
      "execution_count": 11,
      "outputs": []
    },
    {
      "cell_type": "code",
      "source": [
        "formula = \"week_sales ~ monday_sales + customer_traffic + weather\"\n",
        "result = smf.ols(formula, df).fit()\n",
        "result.summary()\n"
      ],
      "metadata": {
        "colab": {
          "base_uri": "https://localhost:8080/",
          "height": 516
        },
        "id": "b4PjMbVKVgsb",
        "outputId": "845b025c-1b01-402c-b30e-4c111e04b2b1"
      },
      "execution_count": 12,
      "outputs": [
        {
          "output_type": "execute_result",
          "data": {
            "text/plain": [
              "<class 'statsmodels.iolib.summary.Summary'>\n",
              "\"\"\"\n",
              "                            OLS Regression Results                            \n",
              "==============================================================================\n",
              "Dep. Variable:             week_sales   R-squared:                       0.764\n",
              "Model:                            OLS   Adj. R-squared:                  0.702\n",
              "Method:                 Least Squares   F-statistic:                     12.17\n",
              "Date:                Fri, 02 Dec 2022   Prob (F-statistic):           0.000131\n",
              "Time:                        00:56:57   Log-Likelihood:                -72.425\n",
              "No. Observations:                  20   AIC:                             154.8\n",
              "Df Residuals:                      15   BIC:                             159.8\n",
              "Df Model:                           4                                         \n",
              "Covariance Type:            nonrobust                                         \n",
              "====================================================================================\n",
              "                       coef    std err          t      P>|t|      [0.025      0.975]\n",
              "------------------------------------------------------------------------------------\n",
              "Intercept            1.5174     12.671      0.120      0.906     -25.491      28.526\n",
              "weather[T.Rainy]    -7.8439      6.477     -1.211      0.245     -21.650       5.962\n",
              "weather[T.Sunny]    -2.0630      6.286     -0.328      0.747     -15.461      11.335\n",
              "monday_sales         5.9235      1.093      5.420      0.000       3.594       8.253\n",
              "customer_traffic     4.5607      1.810      2.520      0.024       0.703       8.418\n",
              "==============================================================================\n",
              "Omnibus:                        1.563   Durbin-Watson:                   1.409\n",
              "Prob(Omnibus):                  0.458   Jarque-Bera (JB):                0.920\n",
              "Skew:                           0.523   Prob(JB):                        0.631\n",
              "Kurtosis:                       2.912   Cond. No.                         42.6\n",
              "==============================================================================\n",
              "\n",
              "Notes:\n",
              "[1] Standard Errors assume that the covariance matrix of the errors is correctly specified.\n",
              "\"\"\""
            ],
            "text/html": [
              "<table class=\"simpletable\">\n",
              "<caption>OLS Regression Results</caption>\n",
              "<tr>\n",
              "  <th>Dep. Variable:</th>       <td>week_sales</td>    <th>  R-squared:         </th> <td>   0.764</td>\n",
              "</tr>\n",
              "<tr>\n",
              "  <th>Model:</th>                   <td>OLS</td>       <th>  Adj. R-squared:    </th> <td>   0.702</td>\n",
              "</tr>\n",
              "<tr>\n",
              "  <th>Method:</th>             <td>Least Squares</td>  <th>  F-statistic:       </th> <td>   12.17</td>\n",
              "</tr>\n",
              "<tr>\n",
              "  <th>Date:</th>             <td>Fri, 02 Dec 2022</td> <th>  Prob (F-statistic):</th> <td>0.000131</td>\n",
              "</tr>\n",
              "<tr>\n",
              "  <th>Time:</th>                 <td>00:56:57</td>     <th>  Log-Likelihood:    </th> <td> -72.425</td>\n",
              "</tr>\n",
              "<tr>\n",
              "  <th>No. Observations:</th>      <td>    20</td>      <th>  AIC:               </th> <td>   154.8</td>\n",
              "</tr>\n",
              "<tr>\n",
              "  <th>Df Residuals:</th>          <td>    15</td>      <th>  BIC:               </th> <td>   159.8</td>\n",
              "</tr>\n",
              "<tr>\n",
              "  <th>Df Model:</th>              <td>     4</td>      <th>                     </th>     <td> </td>   \n",
              "</tr>\n",
              "<tr>\n",
              "  <th>Covariance Type:</th>      <td>nonrobust</td>    <th>                     </th>     <td> </td>   \n",
              "</tr>\n",
              "</table>\n",
              "<table class=\"simpletable\">\n",
              "<tr>\n",
              "          <td></td>            <th>coef</th>     <th>std err</th>      <th>t</th>      <th>P>|t|</th>  <th>[0.025</th>    <th>0.975]</th>  \n",
              "</tr>\n",
              "<tr>\n",
              "  <th>Intercept</th>        <td>    1.5174</td> <td>   12.671</td> <td>    0.120</td> <td> 0.906</td> <td>  -25.491</td> <td>   28.526</td>\n",
              "</tr>\n",
              "<tr>\n",
              "  <th>weather[T.Rainy]</th> <td>   -7.8439</td> <td>    6.477</td> <td>   -1.211</td> <td> 0.245</td> <td>  -21.650</td> <td>    5.962</td>\n",
              "</tr>\n",
              "<tr>\n",
              "  <th>weather[T.Sunny]</th> <td>   -2.0630</td> <td>    6.286</td> <td>   -0.328</td> <td> 0.747</td> <td>  -15.461</td> <td>   11.335</td>\n",
              "</tr>\n",
              "<tr>\n",
              "  <th>monday_sales</th>     <td>    5.9235</td> <td>    1.093</td> <td>    5.420</td> <td> 0.000</td> <td>    3.594</td> <td>    8.253</td>\n",
              "</tr>\n",
              "<tr>\n",
              "  <th>customer_traffic</th> <td>    4.5607</td> <td>    1.810</td> <td>    2.520</td> <td> 0.024</td> <td>    0.703</td> <td>    8.418</td>\n",
              "</tr>\n",
              "</table>\n",
              "<table class=\"simpletable\">\n",
              "<tr>\n",
              "  <th>Omnibus:</th>       <td> 1.563</td> <th>  Durbin-Watson:     </th> <td>   1.409</td>\n",
              "</tr>\n",
              "<tr>\n",
              "  <th>Prob(Omnibus):</th> <td> 0.458</td> <th>  Jarque-Bera (JB):  </th> <td>   0.920</td>\n",
              "</tr>\n",
              "<tr>\n",
              "  <th>Skew:</th>          <td> 0.523</td> <th>  Prob(JB):          </th> <td>   0.631</td>\n",
              "</tr>\n",
              "<tr>\n",
              "  <th>Kurtosis:</th>      <td> 2.912</td> <th>  Cond. No.          </th> <td>    42.6</td>\n",
              "</tr>\n",
              "</table><br/><br/>Notes:<br/>[1] Standard Errors assume that the covariance matrix of the errors is correctly specified."
            ]
          },
          "metadata": {},
          "execution_count": 12
        }
      ]
    },
    {
      "cell_type": "code",
      "source": [],
      "metadata": {
        "id": "gE8X7PSYViCY"
      },
      "execution_count": null,
      "outputs": []
    }
  ]
}