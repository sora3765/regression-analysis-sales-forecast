{
  "nbformat": 4,
  "nbformat_minor": 0,
  "metadata": {
    "colab": {
      "provenance": [],
      "authorship_tag": "ABX9TyMT/lQbBx4PN71qLlNsdT4+",
      "include_colab_link": true
    },
    "kernelspec": {
      "name": "python3",
      "display_name": "Python 3"
    },
    "language_info": {
      "name": "python"
    }
  },
  "cells": [
    {
      "cell_type": "markdown",
      "metadata": {
        "id": "view-in-github",
        "colab_type": "text"
      },
      "source": [
        "<a href=\"https://colab.research.google.com/github/sora3765/regression-analysis-sales-forecast/blob/main/1_3_%E3%83%A2%E3%83%87%E3%83%AB%E3%81%AE%E9%81%B8%E6%8A%9E.ipynb\" target=\"_parent\"><img src=\"https://colab.research.google.com/assets/colab-badge.svg\" alt=\"Open In Colab\"/></a>"
      ]
    },
    {
      "cell_type": "code",
      "execution_count": 1,
      "metadata": {
        "id": "g6efwvOuWB2Y"
      },
      "outputs": [],
      "source": [
        "import numpy as np\n",
        "import pandas as pd\n",
        "import matplotlib.pyplot as plt\n",
        "from scipy import stats\n",
        "import statsmodels.formula.api as smf\n",
        "\n",
        "%precision 3\n",
        "%matplotlib inline\n"
      ]
    },
    {
      "cell_type": "code",
      "source": [
        "!git clone https://github.com/umacchi/python-regression-tutorial-data datasets"
      ],
      "metadata": {
        "colab": {
          "base_uri": "https://localhost:8080/"
        },
        "id": "ipQ2NwMDWOCw",
        "outputId": "8336031d-4564-4194-8bb7-aeaad09d15be"
      },
      "execution_count": 2,
      "outputs": [
        {
          "output_type": "stream",
          "name": "stdout",
          "text": [
            "Cloning into 'datasets'...\n",
            "remote: Enumerating objects: 31, done.\u001b[K\n",
            "remote: Counting objects: 100% (31/31), done.\u001b[K\n",
            "remote: Compressing objects: 100% (27/27), done.\u001b[K\n",
            "remote: Total 31 (delta 3), reused 30 (delta 2), pack-reused 0\u001b[K\n",
            "Unpacking objects: 100% (31/31), done.\n"
          ]
        }
      ]
    },
    {
      "cell_type": "code",
      "source": [
        "df = pd.read_csv(\"/content/datasets/test.csv\")\n",
        "n = len(df)\n",
        "print(df.shape)\n",
        "df.head()\n"
      ],
      "metadata": {
        "colab": {
          "base_uri": "https://localhost:8080/",
          "height": 223
        },
        "id": "Hec0PWuPWQTa",
        "outputId": "6778b4a5-c087-438e-b27e-999402fdb335"
      },
      "execution_count": 3,
      "outputs": [
        {
          "output_type": "stream",
          "name": "stdout",
          "text": [
            "(20, 4)\n"
          ]
        },
        {
          "output_type": "execute_result",
          "data": {
            "text/plain": [
              "   monday_sales  week_sales  customer_traffic weather\n",
              "0           4.2          67               7.2   Sunny\n",
              "1           7.2          71               7.9  Cloudy\n",
              "2           2.0          30               5.3   Sunny\n",
              "3           3.0          35               6.8   Rainy\n",
              "4           1.5          35               7.5   Rainy"
            ],
            "text/html": [
              "\n",
              "  <div id=\"df-b192145a-0777-4764-9bb9-c5e8e0446f66\">\n",
              "    <div class=\"colab-df-container\">\n",
              "      <div>\n",
              "<style scoped>\n",
              "    .dataframe tbody tr th:only-of-type {\n",
              "        vertical-align: middle;\n",
              "    }\n",
              "\n",
              "    .dataframe tbody tr th {\n",
              "        vertical-align: top;\n",
              "    }\n",
              "\n",
              "    .dataframe thead th {\n",
              "        text-align: right;\n",
              "    }\n",
              "</style>\n",
              "<table border=\"1\" class=\"dataframe\">\n",
              "  <thead>\n",
              "    <tr style=\"text-align: right;\">\n",
              "      <th></th>\n",
              "      <th>monday_sales</th>\n",
              "      <th>week_sales</th>\n",
              "      <th>customer_traffic</th>\n",
              "      <th>weather</th>\n",
              "    </tr>\n",
              "  </thead>\n",
              "  <tbody>\n",
              "    <tr>\n",
              "      <th>0</th>\n",
              "      <td>4.2</td>\n",
              "      <td>67</td>\n",
              "      <td>7.2</td>\n",
              "      <td>Sunny</td>\n",
              "    </tr>\n",
              "    <tr>\n",
              "      <th>1</th>\n",
              "      <td>7.2</td>\n",
              "      <td>71</td>\n",
              "      <td>7.9</td>\n",
              "      <td>Cloudy</td>\n",
              "    </tr>\n",
              "    <tr>\n",
              "      <th>2</th>\n",
              "      <td>2.0</td>\n",
              "      <td>30</td>\n",
              "      <td>5.3</td>\n",
              "      <td>Sunny</td>\n",
              "    </tr>\n",
              "    <tr>\n",
              "      <th>3</th>\n",
              "      <td>3.0</td>\n",
              "      <td>35</td>\n",
              "      <td>6.8</td>\n",
              "      <td>Rainy</td>\n",
              "    </tr>\n",
              "    <tr>\n",
              "      <th>4</th>\n",
              "      <td>1.5</td>\n",
              "      <td>35</td>\n",
              "      <td>7.5</td>\n",
              "      <td>Rainy</td>\n",
              "    </tr>\n",
              "  </tbody>\n",
              "</table>\n",
              "</div>\n",
              "      <button class=\"colab-df-convert\" onclick=\"convertToInteractive('df-b192145a-0777-4764-9bb9-c5e8e0446f66')\"\n",
              "              title=\"Convert this dataframe to an interactive table.\"\n",
              "              style=\"display:none;\">\n",
              "        \n",
              "  <svg xmlns=\"http://www.w3.org/2000/svg\" height=\"24px\"viewBox=\"0 0 24 24\"\n",
              "       width=\"24px\">\n",
              "    <path d=\"M0 0h24v24H0V0z\" fill=\"none\"/>\n",
              "    <path d=\"M18.56 5.44l.94 2.06.94-2.06 2.06-.94-2.06-.94-.94-2.06-.94 2.06-2.06.94zm-11 1L8.5 8.5l.94-2.06 2.06-.94-2.06-.94L8.5 2.5l-.94 2.06-2.06.94zm10 10l.94 2.06.94-2.06 2.06-.94-2.06-.94-.94-2.06-.94 2.06-2.06.94z\"/><path d=\"M17.41 7.96l-1.37-1.37c-.4-.4-.92-.59-1.43-.59-.52 0-1.04.2-1.43.59L10.3 9.45l-7.72 7.72c-.78.78-.78 2.05 0 2.83L4 21.41c.39.39.9.59 1.41.59.51 0 1.02-.2 1.41-.59l7.78-7.78 2.81-2.81c.8-.78.8-2.07 0-2.86zM5.41 20L4 18.59l7.72-7.72 1.47 1.35L5.41 20z\"/>\n",
              "  </svg>\n",
              "      </button>\n",
              "      \n",
              "  <style>\n",
              "    .colab-df-container {\n",
              "      display:flex;\n",
              "      flex-wrap:wrap;\n",
              "      gap: 12px;\n",
              "    }\n",
              "\n",
              "    .colab-df-convert {\n",
              "      background-color: #E8F0FE;\n",
              "      border: none;\n",
              "      border-radius: 50%;\n",
              "      cursor: pointer;\n",
              "      display: none;\n",
              "      fill: #1967D2;\n",
              "      height: 32px;\n",
              "      padding: 0 0 0 0;\n",
              "      width: 32px;\n",
              "    }\n",
              "\n",
              "    .colab-df-convert:hover {\n",
              "      background-color: #E2EBFA;\n",
              "      box-shadow: 0px 1px 2px rgba(60, 64, 67, 0.3), 0px 1px 3px 1px rgba(60, 64, 67, 0.15);\n",
              "      fill: #174EA6;\n",
              "    }\n",
              "\n",
              "    [theme=dark] .colab-df-convert {\n",
              "      background-color: #3B4455;\n",
              "      fill: #D2E3FC;\n",
              "    }\n",
              "\n",
              "    [theme=dark] .colab-df-convert:hover {\n",
              "      background-color: #434B5C;\n",
              "      box-shadow: 0px 1px 3px 1px rgba(0, 0, 0, 0.15);\n",
              "      filter: drop-shadow(0px 1px 2px rgba(0, 0, 0, 0.3));\n",
              "      fill: #FFFFFF;\n",
              "    }\n",
              "  </style>\n",
              "\n",
              "      <script>\n",
              "        const buttonEl =\n",
              "          document.querySelector('#df-b192145a-0777-4764-9bb9-c5e8e0446f66 button.colab-df-convert');\n",
              "        buttonEl.style.display =\n",
              "          google.colab.kernel.accessAllowed ? 'block' : 'none';\n",
              "\n",
              "        async function convertToInteractive(key) {\n",
              "          const element = document.querySelector('#df-b192145a-0777-4764-9bb9-c5e8e0446f66');\n",
              "          const dataTable =\n",
              "            await google.colab.kernel.invokeFunction('convertToInteractive',\n",
              "                                                     [key], {});\n",
              "          if (!dataTable) return;\n",
              "\n",
              "          const docLinkHtml = 'Like what you see? Visit the ' +\n",
              "            '<a target=\"_blank\" href=https://colab.research.google.com/notebooks/data_table.ipynb>data table notebook</a>'\n",
              "            + ' to learn more about interactive tables.';\n",
              "          element.innerHTML = '';\n",
              "          dataTable['output_type'] = 'display_data';\n",
              "          await google.colab.output.renderOutput(dataTable, element);\n",
              "          const docLink = document.createElement('div');\n",
              "          docLink.innerHTML = docLinkHtml;\n",
              "          element.appendChild(docLink);\n",
              "        }\n",
              "      </script>\n",
              "    </div>\n",
              "  </div>\n",
              "  "
            ]
          },
          "metadata": {},
          "execution_count": 3
        }
      ]
    },
    {
      "cell_type": "code",
      "source": [
        "# ３つのモデルのどれが良いの？\n",
        "\n",
        "# 当てはまりが良くても、予測が当てはまらない場合　→　過学習\n",
        "\n",
        "\n",
        "x = np.array(df[\"monday_sales\"])\n",
        "y = np.array(df['week_sales'])\n",
        "p = 1\n",
        "\n"
      ],
      "metadata": {
        "id": "eORkL232WSoD"
      },
      "execution_count": 4,
      "outputs": []
    },
    {
      "cell_type": "code",
      "source": [
        "formula = \"week_sales ~ monday_sales\"\n",
        "result = smf.ols(formula, df).fit()\n",
        "result.summary()\n"
      ],
      "metadata": {
        "colab": {
          "base_uri": "https://localhost:8080/",
          "height": 451
        },
        "id": "_GYuJLqmWo-X",
        "outputId": "57ca88ec-0115-4170-9fb5-955571dba505"
      },
      "execution_count": 5,
      "outputs": [
        {
          "output_type": "execute_result",
          "data": {
            "text/plain": [
              "<class 'statsmodels.iolib.summary.Summary'>\n",
              "\"\"\"\n",
              "                            OLS Regression Results                            \n",
              "==============================================================================\n",
              "Dep. Variable:             week_sales   R-squared:                       0.649\n",
              "Model:                            OLS   Adj. R-squared:                  0.629\n",
              "Method:                 Least Squares   F-statistic:                     33.24\n",
              "Date:                Fri, 02 Dec 2022   Prob (F-statistic):           1.83e-05\n",
              "Time:                        01:01:54   Log-Likelihood:                -76.423\n",
              "No. Observations:                  20   AIC:                             156.8\n",
              "Df Residuals:                      18   BIC:                             158.8\n",
              "Df Model:                           1                                         \n",
              "Covariance Type:            nonrobust                                         \n",
              "================================================================================\n",
              "                   coef    std err          t      P>|t|      [0.025      0.975]\n",
              "--------------------------------------------------------------------------------\n",
              "Intercept       23.7942      4.999      4.759      0.000      13.291      34.298\n",
              "monday_sales     6.5009      1.128      5.766      0.000       4.132       8.870\n",
              "==============================================================================\n",
              "Omnibus:                        2.137   Durbin-Watson:                   1.471\n",
              "Prob(Omnibus):                  0.344   Jarque-Bera (JB):                1.783\n",
              "Skew:                           0.662   Prob(JB):                        0.410\n",
              "Kurtosis:                       2.377   Cond. No.                         8.83\n",
              "==============================================================================\n",
              "\n",
              "Notes:\n",
              "[1] Standard Errors assume that the covariance matrix of the errors is correctly specified.\n",
              "\"\"\""
            ],
            "text/html": [
              "<table class=\"simpletable\">\n",
              "<caption>OLS Regression Results</caption>\n",
              "<tr>\n",
              "  <th>Dep. Variable:</th>       <td>week_sales</td>    <th>  R-squared:         </th> <td>   0.649</td>\n",
              "</tr>\n",
              "<tr>\n",
              "  <th>Model:</th>                   <td>OLS</td>       <th>  Adj. R-squared:    </th> <td>   0.629</td>\n",
              "</tr>\n",
              "<tr>\n",
              "  <th>Method:</th>             <td>Least Squares</td>  <th>  F-statistic:       </th> <td>   33.24</td>\n",
              "</tr>\n",
              "<tr>\n",
              "  <th>Date:</th>             <td>Fri, 02 Dec 2022</td> <th>  Prob (F-statistic):</th> <td>1.83e-05</td>\n",
              "</tr>\n",
              "<tr>\n",
              "  <th>Time:</th>                 <td>01:01:54</td>     <th>  Log-Likelihood:    </th> <td> -76.423</td>\n",
              "</tr>\n",
              "<tr>\n",
              "  <th>No. Observations:</th>      <td>    20</td>      <th>  AIC:               </th> <td>   156.8</td>\n",
              "</tr>\n",
              "<tr>\n",
              "  <th>Df Residuals:</th>          <td>    18</td>      <th>  BIC:               </th> <td>   158.8</td>\n",
              "</tr>\n",
              "<tr>\n",
              "  <th>Df Model:</th>              <td>     1</td>      <th>                     </th>     <td> </td>   \n",
              "</tr>\n",
              "<tr>\n",
              "  <th>Covariance Type:</th>      <td>nonrobust</td>    <th>                     </th>     <td> </td>   \n",
              "</tr>\n",
              "</table>\n",
              "<table class=\"simpletable\">\n",
              "<tr>\n",
              "        <td></td>          <th>coef</th>     <th>std err</th>      <th>t</th>      <th>P>|t|</th>  <th>[0.025</th>    <th>0.975]</th>  \n",
              "</tr>\n",
              "<tr>\n",
              "  <th>Intercept</th>    <td>   23.7942</td> <td>    4.999</td> <td>    4.759</td> <td> 0.000</td> <td>   13.291</td> <td>   34.298</td>\n",
              "</tr>\n",
              "<tr>\n",
              "  <th>monday_sales</th> <td>    6.5009</td> <td>    1.128</td> <td>    5.766</td> <td> 0.000</td> <td>    4.132</td> <td>    8.870</td>\n",
              "</tr>\n",
              "</table>\n",
              "<table class=\"simpletable\">\n",
              "<tr>\n",
              "  <th>Omnibus:</th>       <td> 2.137</td> <th>  Durbin-Watson:     </th> <td>   1.471</td>\n",
              "</tr>\n",
              "<tr>\n",
              "  <th>Prob(Omnibus):</th> <td> 0.344</td> <th>  Jarque-Bera (JB):  </th> <td>   1.783</td>\n",
              "</tr>\n",
              "<tr>\n",
              "  <th>Skew:</th>          <td> 0.662</td> <th>  Prob(JB):          </th> <td>   0.410</td>\n",
              "</tr>\n",
              "<tr>\n",
              "  <th>Kurtosis:</th>      <td> 2.377</td> <th>  Cond. No.          </th> <td>    8.83</td>\n",
              "</tr>\n",
              "</table><br/><br/>Notes:<br/>[1] Standard Errors assume that the covariance matrix of the errors is correctly specified."
            ]
          },
          "metadata": {},
          "execution_count": 5
        }
      ]
    },
    {
      "cell_type": "code",
      "source": [
        "# モデルの予測値を算出\n",
        "y_hat = np.array(result.fittedvalues)\n",
        "y_hat\n"
      ],
      "metadata": {
        "colab": {
          "base_uri": "https://localhost:8080/"
        },
        "id": "ddsJu0XIWqpu",
        "outputId": "c5781433-1e15-423d-f18e-7c338f8697b7"
      },
      "execution_count": 6,
      "outputs": [
        {
          "output_type": "execute_result",
          "data": {
            "text/plain": [
              "array([51.098, 70.601, 36.796, 43.297, 33.545, 29.645, 36.146, 46.547,\n",
              "       49.798, 58.899, 51.098, 68.65 , 36.796, 81.002, 25.744, 67.35 ,\n",
              "       51.098, 60.199, 32.895, 36.796])"
            ]
          },
          "metadata": {},
          "execution_count": 6
        }
      ]
    },
    {
      "cell_type": "code",
      "source": [
        "eps_hat = np.array(result.resid)\n",
        "eps_hat"
      ],
      "metadata": {
        "colab": {
          "base_uri": "https://localhost:8080/"
        },
        "id": "awX5GbKpWsuH",
        "outputId": "ecea5d7e-bcf0-4ce3-b6f5-01781809e195"
      },
      "execution_count": 7,
      "outputs": [
        {
          "output_type": "execute_result",
          "data": {
            "text/plain": [
              "array([ 15.902,   0.399,  -6.796,  -8.297,   1.455,  10.355, -13.146,\n",
              "        -9.547, -10.798,  -3.899, -11.098,   1.35 ,  -7.796,   6.998,\n",
              "        21.256,   9.65 ,   0.902,  -5.199, -14.895,  23.204])"
            ]
          },
          "metadata": {},
          "execution_count": 7
        }
      ]
    },
    {
      "cell_type": "code",
      "source": [
        "np.sum(eps_hat ** 2)\n",
        "# 出力結果\n",
        "# 2440.957\n"
      ],
      "metadata": {
        "colab": {
          "base_uri": "https://localhost:8080/"
        },
        "id": "cgmawA05Wub1",
        "outputId": "88cba59b-f671-4e1c-9ba9-b70926735ef2"
      },
      "execution_count": 8,
      "outputs": [
        {
          "output_type": "execute_result",
          "data": {
            "text/plain": [
              "2440.957291720378"
            ]
          },
          "metadata": {},
          "execution_count": 8
        }
      ]
    },
    {
      "cell_type": "code",
      "source": [
        "# ================================================"
      ],
      "metadata": {
        "id": "6xLwvj5gWwmk"
      },
      "execution_count": 9,
      "outputs": []
    },
    {
      "cell_type": "code",
      "source": [
        "# 全変動を求める\n",
        "total_var = np.sum((y - np.mean(y))**2)\n",
        "\n",
        "# 回帰変動を求める\n",
        "exp_var = np.sum((y_hat - np.mean(y))**2)\n",
        "\n",
        "# 誤差変動を求める\n",
        "unexp_var = np.sum(eps_hat**2)\n"
      ],
      "metadata": {
        "id": "JGWP52dmW5V0"
      },
      "execution_count": 10,
      "outputs": []
    },
    {
      "cell_type": "code",
      "source": [
        "# 全変動 = 回帰変動 + 残差変動\n",
        "total_var, exp_var + unexp_var\n",
        "# 出力結果\n",
        "# (6948.800, 6948.800)\n"
      ],
      "metadata": {
        "colab": {
          "base_uri": "https://localhost:8080/"
        },
        "id": "6_G_ZKVfW6EZ",
        "outputId": "ae8912a0-2bb9-48f0-9012-6846efcdaa69"
      },
      "execution_count": 11,
      "outputs": [
        {
          "output_type": "execute_result",
          "data": {
            "text/plain": [
              "(6948.8, 6948.799999999997)"
            ]
          },
          "metadata": {},
          "execution_count": 11
        }
      ]
    },
    {
      "cell_type": "code",
      "source": [
        "# 週間売上 ~ monday_sales : 0.649\n",
        "# 週間売上 ~ monday_sales + customer traffic : 0.737\n",
        "# 週間売上 ~ monday_sales + customer traffic + weather : 0.764"
      ],
      "metadata": {
        "id": "VrTtMKlzW8Fh"
      },
      "execution_count": 12,
      "outputs": []
    },
    {
      "cell_type": "code",
      "source": [
        "1- (unexp_var / (n - p - 1) / (total_var / (n - 1)))\n",
        "# 出力結果\n",
        "# 0.629\n"
      ],
      "metadata": {
        "colab": {
          "base_uri": "https://localhost:8080/"
        },
        "id": "cXv9K64zXDVF",
        "outputId": "3d2024e6-3adf-4baf-815d-6d9f5f9625f2"
      },
      "execution_count": 13,
      "outputs": [
        {
          "output_type": "execute_result",
          "data": {
            "text/plain": [
              "0.6292070529948641"
            ]
          },
          "metadata": {},
          "execution_count": 13
        }
      ]
    },
    {
      "cell_type": "code",
      "source": [
        "# 週間売上 ~ monday_sales + customer traffic : 0.706\n",
        "# 自由度調整済み決定係数"
      ],
      "metadata": {
        "id": "H7a3uZaDXJGz"
      },
      "execution_count": 14,
      "outputs": []
    },
    {
      "cell_type": "code",
      "source": [
        "# F検定\n",
        "f = (exp_var / p) / (unexp_var / (n - p - 1))\n",
        "f\n",
        "# 出力結果\n",
        "# 33.242\n"
      ],
      "metadata": {
        "colab": {
          "base_uri": "https://localhost:8080/"
        },
        "id": "CNoIAIzXXQ4X",
        "outputId": "e1d1de65-9db0-48fa-9ac9-354a309da6ce"
      },
      "execution_count": 15,
      "outputs": [
        {
          "output_type": "execute_result",
          "data": {
            "text/plain": [
              "33.241535615662144"
            ]
          },
          "metadata": {},
          "execution_count": 15
        }
      ]
    },
    {
      "cell_type": "code",
      "source": [
        "rv = stats.f(p, n - p - 1)\n",
        "1 - rv.cdf(f)\n",
        "# 出力結果\n",
        "# 0.000"
      ],
      "metadata": {
        "colab": {
          "base_uri": "https://localhost:8080/"
        },
        "id": "zV3ud32PXWq-",
        "outputId": "d8a537fd-0985-4771-b99d-da7d77d341c0"
      },
      "execution_count": 16,
      "outputs": [
        {
          "output_type": "execute_result",
          "data": {
            "text/plain": [
              "1.8280242664370228e-05"
            ]
          },
          "metadata": {},
          "execution_count": 16
        }
      ]
    },
    {
      "cell_type": "code",
      "source": [
        "# ========================================================"
      ],
      "metadata": {
        "id": "1aq5A3OwXX5n"
      },
      "execution_count": 17,
      "outputs": []
    },
    {
      "cell_type": "code",
      "source": [
        "prob = 0.3 # 表が出る確率\n",
        "coin_result = [0, 1, 0, 0, 1] # 0が裏、1が表\n",
        "\n",
        "# ベルヌーイ分布\n",
        "rv = stats.bernoulli(prob)\n",
        "probs = rv.pmf(coin_result)\n",
        "print(probs)\n",
        "# 出力結果\n",
        "# [0.7 0.3 0.7 0.7 0.3]\n",
        "# 0(裏)が出る確率は、0.7\n",
        "\n",
        "L = np.prod(probs)\n",
        "L\n",
        "# 出力結果\n",
        "# 0.031"
      ],
      "metadata": {
        "colab": {
          "base_uri": "https://localhost:8080/"
        },
        "id": "ZU2Wu7T3Xc1H",
        "outputId": "b74404fb-27b2-4bbc-a9fe-3ce1fd5c925e"
      },
      "execution_count": 19,
      "outputs": [
        {
          "output_type": "stream",
          "name": "stdout",
          "text": [
            "[0.7 0.3 0.7 0.7 0.3]\n"
          ]
        },
        {
          "output_type": "execute_result",
          "data": {
            "text/plain": [
              "0.030869999999999995"
            ]
          },
          "metadata": {},
          "execution_count": 19
        }
      ]
    },
    {
      "cell_type": "code",
      "source": [
        "ps = np.linspace(0, 1, 100)\n",
        "Ls = [np.prod(stats.bernoulli(prob).pmf(coin_result)) for prob in ps]\n",
        "\n",
        "fig = plt.figure(figsize=(10, 6))\n",
        "ax = fig.add_subplot(111)\n",
        "ax.plot(ps, Ls, label=\"Logliklifood function\", color=\"gray\")\n",
        "ax.legend()\n",
        "plt.show()\n"
      ],
      "metadata": {
        "colab": {
          "base_uri": "https://localhost:8080/",
          "height": 374
        },
        "id": "JmmixSpIXdiq",
        "outputId": "e6710660-8049-4dc1-a819-4da5333ca1b7"
      },
      "execution_count": 20,
      "outputs": [
        {
          "output_type": "display_data",
          "data": {
            "text/plain": [
              "<Figure size 720x432 with 1 Axes>"
            ],
            "image/png": "[encoded data removed]"
          },
          "metadata": {
            "needs_background": "light"
          }
        }
      ]
    },
    {
      "cell_type": "code",
      "source": [
        "# p = 0.4 : 最も尤もらしい母数"
      ],
      "metadata": {
        "id": "kys3VXzAXqPA"
      },
      "execution_count": 21,
      "outputs": []
    },
    {
      "cell_type": "code",
      "source": [
        "prob = 0.4\n",
        "rv = stats.bernoulli(prob)\n",
        "mll = np.sum(np.log(rv.pmf([0, 1, 0, 0, 1])))\n",
        "mll\n",
        "# 出力結果\n",
        "# -3.365\n"
      ],
      "metadata": {
        "colab": {
          "base_uri": "https://localhost:8080/"
        },
        "id": "UrgR-wRzXx9I",
        "outputId": "3d1928b2-fbaa-4609-b3ea-828d4266a164"
      },
      "execution_count": 22,
      "outputs": [
        {
          "output_type": "execute_result",
          "data": {
            "text/plain": [
              "-3.365058335046282"
            ]
          },
          "metadata": {},
          "execution_count": 22
        }
      ]
    },
    {
      "cell_type": "code",
      "source": [
        "v = unexp_var / n # 分散\n",
        "sv = np.sqrt(v) # 標準偏差\n",
        "rv = stats.norm(y_hat, sv)\n",
        "mll = np.sum(np.log(rv.pdf(y)))\n",
        "mll\n",
        "# 出力結果\n",
        "# -76.423\n"
      ],
      "metadata": {
        "colab": {
          "base_uri": "https://localhost:8080/"
        },
        "id": "JLzK3qQ_XyTa",
        "outputId": "a9490091-a0c3-4022-b1ef-14344ce8ee33"
      },
      "execution_count": 23,
      "outputs": [
        {
          "output_type": "execute_result",
          "data": {
            "text/plain": [
              "-76.42290366872548"
            ]
          },
          "metadata": {},
          "execution_count": 23
        }
      ]
    },
    {
      "cell_type": "code",
      "source": [
        "# ========================================"
      ],
      "metadata": {
        "id": "NUJV0TRiX1hE"
      },
      "execution_count": 24,
      "outputs": []
    },
    {
      "cell_type": "code",
      "source": [
        "# 対数尤度のような当てはまりの良さを基準にすると、汎化性能の悪いモデルが選ばれてしまう恐れがある\n",
        "# AIC(赤池情報量基準) という指標は、モデルの複雑さ ( 説明変数の数 ) とデータへの適合度とのバランスをとった指標"
      ],
      "metadata": {
        "id": "ja5tHlbqYAE1"
      },
      "execution_count": 25,
      "outputs": []
    },
    {
      "cell_type": "code",
      "source": [
        "aic = -2 * mll + 2 * (p+1)\n",
        "aic\n",
        "# 出力結果\n",
        "# 156.846\n"
      ],
      "metadata": {
        "colab": {
          "base_uri": "https://localhost:8080/"
        },
        "id": "bGO5dLWoYID_",
        "outputId": "594b16fd-d173-46ab-a006-214072126b7d"
      },
      "execution_count": 26,
      "outputs": [
        {
          "output_type": "execute_result",
          "data": {
            "text/plain": [
              "156.84580733745096"
            ]
          },
          "metadata": {},
          "execution_count": 26
        }
      ]
    },
    {
      "cell_type": "code",
      "source": [
        "bic = -2 * mll + np.log(n) * (p+1)\n",
        "bic\n",
        "# 出力結果\n",
        "# 158.837\n"
      ],
      "metadata": {
        "colab": {
          "base_uri": "https://localhost:8080/"
        },
        "id": "0A3oyDYQYIj7",
        "outputId": "74da5ddf-a1c8-441c-ea52-512fa03eb860"
      },
      "execution_count": 27,
      "outputs": [
        {
          "output_type": "execute_result",
          "data": {
            "text/plain": [
              "158.83727188455896"
            ]
          },
          "metadata": {},
          "execution_count": 27
        }
      ]
    },
    {
      "cell_type": "code",
      "source": [
        "# 週間売上 ~ monday_sales + customer traffic : 156.1 が一番良い！"
      ],
      "metadata": {
        "id": "zwnxhjs-YLVe"
      },
      "execution_count": 28,
      "outputs": []
    },
    {
      "cell_type": "code",
      "source": [],
      "metadata": {
        "id": "EMkV-BtuYQyp"
      },
      "execution_count": null,
      "outputs": []
    }
  ]
}